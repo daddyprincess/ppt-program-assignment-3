{
 "cells": [
  {
   "cell_type": "markdown",
   "id": "aea41b03-c3ca-4c2e-b801-85c537bfe81a",
   "metadata": {},
   "source": [
    "## 1.A company wants to analyze the sales performance of its products in different regions. They have collected the following data:Region A: [10, 15, 12, 8, 14]Region B: [18, 20, 16, 22, 25]Calculate the mean sales for each region.\n"
   ]
  },
  {
   "cell_type": "code",
   "execution_count": 1,
   "id": "2ca49be4-56ed-4d64-bd65-fe1a4e9bfca4",
   "metadata": {},
   "outputs": [
    {
     "name": "stdout",
     "output_type": "stream",
     "text": [
      "Mean sales for Region A: 11.8\n",
      "Mean sales for Region B: 20.2\n"
     ]
    }
   ],
   "source": [
    "region_a_sales = [10, 15, 12, 8, 14]\n",
    "region_b_sales = [18, 20, 16, 22, 25]\n",
    "\n",
    "mean_region_a = sum(region_a_sales) / len(region_a_sales)\n",
    "mean_region_b = sum(region_b_sales) / len(region_b_sales)\n",
    "\n",
    "print(\"Mean sales for Region A:\", mean_region_a)\n",
    "print(\"Mean sales for Region B:\", mean_region_b)\n"
   ]
  },
  {
   "cell_type": "markdown",
   "id": "3b66e155-96f5-4054-b5d3-b9cc86876061",
   "metadata": {},
   "source": [
    "## 2.A survey is conducted to measure customer satisfaction on a scale of 1 to 5. The data collected is as follows:[4, 5, 2, 3, 5, 4, 3, 2, 4, 5]Calculate the mode of the survey responses.\n"
   ]
  },
  {
   "cell_type": "code",
   "execution_count": 2,
   "id": "2fa3cc25-4411-4155-9f56-38336af3598a",
   "metadata": {},
   "outputs": [
    {
     "name": "stdout",
     "output_type": "stream",
     "text": [
      "Mode of the survey responses: 4\n"
     ]
    }
   ],
   "source": [
    "survey_responses = [4, 5, 2, 3, 5, 4, 3, 2, 4, 5]\n",
    "\n",
    "mode = max(set(survey_responses), key=survey_responses.count)\n",
    "\n",
    "print(\"Mode of the survey responses:\", mode)\n"
   ]
  },
  {
   "cell_type": "markdown",
   "id": "da9676ab-66ab-432d-bb37-de5d1fc58d91",
   "metadata": {},
   "source": [
    "## 3.A company wants to compare the salaries of two departments. The salary data for Department A and Department B are as follows:Department A: [5000, 6000, 5500, 7000]Department B: [4500, 5500, 5800, 6000, 5200]Calculate the median salary for each department.\n"
   ]
  },
  {
   "cell_type": "code",
   "execution_count": 3,
   "id": "c9725fa1-bf5b-4dd1-8cba-739574d1ae9c",
   "metadata": {},
   "outputs": [
    {
     "name": "stdout",
     "output_type": "stream",
     "text": [
      "Median salary for Department A: 5750.0\n",
      "Median salary for Department B: 5500\n"
     ]
    }
   ],
   "source": [
    "department_a_salaries = [5000, 6000, 5500, 7000]\n",
    "department_b_salaries = [4500, 5500, 5800, 6000, 5200]\n",
    "\n",
    "def calculate_median(salaries):\n",
    "    sorted_salaries = sorted(salaries)\n",
    "    n = len(sorted_salaries)\n",
    "    if n % 2 == 0:\n",
    "        median = (sorted_salaries[n//2-1] + sorted_salaries[n//2]) / 2\n",
    "    else:\n",
    "        median = sorted_salaries[n//2]\n",
    "    return median\n",
    "\n",
    "median_a = calculate_median(department_a_salaries)\n",
    "median_b = calculate_median(department_b_salaries)\n",
    "\n",
    "print(\"Median salary for Department A:\", median_a)\n",
    "print(\"Median salary for Department B:\", median_b)\n"
   ]
  },
  {
   "cell_type": "markdown",
   "id": "10cb31ba-dfb9-40dd-b0e3-291bc1ca32d0",
   "metadata": {},
   "source": [
    "## 4.A data analyst wants to determine the variability in the daily stock prices of a company. The data collected is as follows: [25.5, 24.8, 26.1, 25.3, 24.9] Calculate the range of the stock prices\n"
   ]
  },
  {
   "cell_type": "code",
   "execution_count": 4,
   "id": "88728685-cde5-4f90-adc6-951bc0a5be9c",
   "metadata": {},
   "outputs": [
    {
     "name": "stdout",
     "output_type": "stream",
     "text": [
      "Range of stock prices: 1.3000000000000007\n"
     ]
    }
   ],
   "source": [
    "stock_prices = [25.5, 24.8, 26.1, 25.3, 24.9]\n",
    "\n",
    "def calculate_range(prices):\n",
    "    return max(prices) - min(prices)\n",
    "\n",
    "range_prices = calculate_range(stock_prices)\n",
    "\n",
    "print(\"Range of stock prices:\", range_prices)\n"
   ]
  },
  {
   "cell_type": "markdown",
   "id": "46c3b935-d3fb-4e4e-b9f5-0988801f55bd",
   "metadata": {},
   "source": [
    "## 5. A study is conducted to compare the performance of two different teaching methods. The test scores of the students in each group are as follows:Group A: [85, 90, 92, 88, 91]Group B: [82, 88, 90, 86, 87]Perform a t-test to determine if there is a significant difference in the mean scores between the two groups.\n"
   ]
  },
  {
   "cell_type": "code",
   "execution_count": 5,
   "id": "f5ed3f35-0951-4cd7-a436-c56e5f6625f4",
   "metadata": {},
   "outputs": [
    {
     "name": "stdout",
     "output_type": "stream",
     "text": [
      "T-statistic: 1.4312528946642733\n",
      "P-value: 0.19023970239078333\n"
     ]
    }
   ],
   "source": [
    "import scipy.stats as stats\n",
    "\n",
    "group_a = [85, 90, 92, 88, 91]\n",
    "group_b = [82, 88, 90, 86, 87]\n",
    "\n",
    "def perform_t_test(group1, group2):\n",
    "    t_statistic, p_value = stats.ttest_ind(group1, group2)\n",
    "    return t_statistic, p_value\n",
    "\n",
    "t_stat, p_value = perform_t_test(group_a, group_b)\n",
    "\n",
    "print(\"T-statistic:\", t_stat)\n",
    "print(\"P-value:\", p_value)\n"
   ]
  },
  {
   "cell_type": "markdown",
   "id": "cf423e21-1986-4cfc-86e8-f7b2c42d6ef2",
   "metadata": {},
   "source": [
    "## 6. A company wants to analyze the relationship between advertising expenditure and sales. The data collected is as follows:Advertising Expenditure (in thousands): [10, 15, 12, 8, 14]Sales (in thousands): [25, 30, 28, 20, 26]Calculate the correlation coefficient between advertising expenditure and sales.\n"
   ]
  },
  {
   "cell_type": "code",
   "execution_count": 6,
   "id": "ac1cb53e-ce49-4e2e-acdb-d7a2cd35f2cd",
   "metadata": {},
   "outputs": [
    {
     "name": "stdout",
     "output_type": "stream",
     "text": [
      "Correlation coefficient: 0.8757511375750133\n",
      "P-value: 0.05158319418821717\n"
     ]
    }
   ],
   "source": [
    "import scipy.stats as stats\n",
    "\n",
    "advertising_expenditure = [10, 15, 12, 8, 14]\n",
    "sales = [25, 30, 28, 20, 26]\n",
    "\n",
    "correlation_coefficient, p_value = stats.pearsonr(advertising_expenditure, sales)\n",
    "\n",
    "print(\"Correlation coefficient:\", correlation_coefficient)\n",
    "print(\"P-value:\", p_value)\n"
   ]
  },
  {
   "cell_type": "markdown",
   "id": "6eb94187-fd9c-427f-8651-1c1773babcf3",
   "metadata": {},
   "source": [
    "## 7.: A survey is conducted to measure the heights of a group of people. The data collected is as follows:[160, 170, 165, 155, 175, 180, 170]Calculate the standard deviation of the heights.\n"
   ]
  },
  {
   "cell_type": "code",
   "execution_count": 7,
   "id": "c57b697c-f44e-4652-ad58-547ca1d2497d",
   "metadata": {},
   "outputs": [
    {
     "name": "stdout",
     "output_type": "stream",
     "text": [
      "Standard deviation: 7.953949089757174\n"
     ]
    }
   ],
   "source": [
    "import numpy as np\n",
    "\n",
    "heights = [160, 170, 165, 155, 175, 180, 170]\n",
    "\n",
    "standard_deviation = np.std(heights)\n",
    "\n",
    "print(\"Standard deviation:\", standard_deviation)\n"
   ]
  },
  {
   "cell_type": "markdown",
   "id": "8a3d9fe7-aa40-42c6-be23-187c685bf977",
   "metadata": {},
   "source": [
    "## 8. A company wants to analyze the relationship between employee tenure and job satisfaction. The data collected is as follows:Employee Tenure (in years): [2, 3, 5, 4, 6, 2, 4]Job Satisfaction (on a scale of 1 to 10): [7, 8, 6, 9, 5, 7, 6]Perform a linear regression analysis to predict job satisfaction based on employee tenure."
   ]
  },
  {
   "cell_type": "code",
   "execution_count": 8,
   "id": "9baead36-ba22-455a-a822-bbd0d2a1ef38",
   "metadata": {},
   "outputs": [
    {
     "name": "stdout",
     "output_type": "stream",
     "text": [
      "Predicted job satisfaction: [7.19148936 6.72340426 6.25531915]\n"
     ]
    }
   ],
   "source": [
    "from sklearn.linear_model import LinearRegression\n",
    "import numpy as np\n",
    "\n",
    "employee_tenure = np.array([2, 3, 5, 4, 6, 2, 4]).reshape(-1, 1)\n",
    "job_satisfaction = np.array([7, 8, 6, 9, 5, 7, 6])\n",
    "\n",
    "# Create and fit the linear regression model\n",
    "model = LinearRegression()\n",
    "model.fit(employee_tenure, job_satisfaction)\n",
    "\n",
    "# Predict job satisfaction for new employee tenure values\n",
    "new_tenure = np.array([3, 4, 5]).reshape(-1, 1)\n",
    "predicted_satisfaction = model.predict(new_tenure)\n",
    "\n",
    "print(\"Predicted job satisfaction:\", predicted_satisfaction)\n"
   ]
  },
  {
   "cell_type": "markdown",
   "id": "c69a3b70-526e-4300-96b9-b940cbc01def",
   "metadata": {},
   "source": [
    "## 9. A study is conducted to compare the effectiveness of two different medications. The recovery times of the patients in each group are as follows: Medication A: [10, 12, 14, 11, 13] Medication B: [15, 17, 16, 14, 18] Perform an analysis of variance (ANOVA) to determine if there is a significant difference in the mean recovery times between the two medications.\n"
   ]
  },
  {
   "cell_type": "code",
   "execution_count": 9,
   "id": "2e06d54b-66d4-4d4a-bf21-c93b105c5c63",
   "metadata": {},
   "outputs": [
    {
     "name": "stdout",
     "output_type": "stream",
     "text": [
      "F-statistic: 16.0\n",
      "p-value: 0.003949772803445326\n"
     ]
    }
   ],
   "source": [
    "from scipy.stats import f_oneway\n",
    "\n",
    "medication_A = [10, 12, 14, 11, 13]\n",
    "medication_B = [15, 17, 16, 14, 18]\n",
    "\n",
    "# Perform ANOVA\n",
    "f_statistic, p_value = f_oneway(medication_A, medication_B)\n",
    "\n",
    "print(\"F-statistic:\", f_statistic)\n",
    "print(\"p-value:\", p_value)\n"
   ]
  },
  {
   "cell_type": "markdown",
   "id": "3ea7db9a-68e0-45f0-b269-c1193dced8cf",
   "metadata": {},
   "source": [
    "## 10. A company wants to analyze customer feedback ratings on a scale of 1 to 10. The data collected is as follows:[8, 9, 7, 6, 8, 10, 9, 8, 7, 8] Calculate the 75th percentile of the feedback ratings.\n"
   ]
  },
  {
   "cell_type": "code",
   "execution_count": 10,
   "id": "570f94f5-9584-4261-a7a5-f924ff736bd7",
   "metadata": {},
   "outputs": [
    {
     "name": "stdout",
     "output_type": "stream",
     "text": [
      "75th percentile: 8.75\n"
     ]
    }
   ],
   "source": [
    "import numpy as np\n",
    "\n",
    "feedback_ratings = [8, 9, 7, 6, 8, 10, 9, 8, 7, 8]\n",
    "percentile_75 = np.percentile(feedback_ratings, 75)\n",
    "\n",
    "print(\"75th percentile:\", percentile_75)\n"
   ]
  },
  {
   "cell_type": "markdown",
   "id": "597f8f4e-5494-4239-aea0-64785135d5b3",
   "metadata": {},
   "source": [
    "## 11. A quality control department wants to test the weight consistency of a product. The weights of a sample of products are as follows: [10.2, 9.8, 10.0, 10.5, 10.3, 10.1] Perform a hypothesis test to determine if the mean weight differs significantly from 10 grams."
   ]
  },
  {
   "cell_type": "code",
   "execution_count": 11,
   "id": "d5ca53c2-2570-4ddb-a473-c27fcecb70a7",
   "metadata": {},
   "outputs": [
    {
     "name": "stdout",
     "output_type": "stream",
     "text": [
      "T-statistic: 1.5126584522688367\n",
      "p-value: 0.19077595151110102\n"
     ]
    }
   ],
   "source": [
    "from scipy import stats\n",
    "\n",
    "weights = [10.2, 9.8, 10.0, 10.5, 10.3, 10.1]\n",
    "mean_weight = 10.0\n",
    "\n",
    "# Perform one-sample t-test\n",
    "t_statistic, p_value = stats.ttest_1samp(weights, mean_weight)\n",
    "\n",
    "print(\"T-statistic:\", t_statistic)\n",
    "print(\"p-value:\", p_value)\n"
   ]
  },
  {
   "cell_type": "markdown",
   "id": "179b2745-8cf2-4e0b-9069-802f92fe3c3e",
   "metadata": {},
   "source": [
    "## 12. A company wants to analyze the click-through rates of two different website designs. The number of clicks for each design is as follows: Design A: [100, 120, 110, 90, 95] Design B: [80, 85, 90, 95, 100] Perform a chi-square test to determine if there is a significant difference in the click-through rates between the two designs.\n"
   ]
  },
  {
   "cell_type": "code",
   "execution_count": 12,
   "id": "dd66c843-4bb5-4c2a-b7ac-e249dc7a7356",
   "metadata": {},
   "outputs": [
    {
     "name": "stdout",
     "output_type": "stream",
     "text": [
      "Chi-square statistic: 6.110658166925435\n",
      "p-value: 0.19103526314060293\n"
     ]
    }
   ],
   "source": [
    "from scipy import stats\n",
    "import numpy as np\n",
    "\n",
    "clicks_design_A = [100, 120, 110, 90, 95]\n",
    "clicks_design_B = [80, 85, 90, 95, 100]\n",
    "\n",
    "# Create the observed contingency table\n",
    "observed = np.array([clicks_design_A, clicks_design_B])\n",
    "\n",
    "# Perform the chi-square test\n",
    "chi2_statistic, p_value, _, _ = stats.chi2_contingency(observed)\n",
    "\n",
    "print(\"Chi-square statistic:\", chi2_statistic)\n",
    "print(\"p-value:\", p_value)\n"
   ]
  },
  {
   "cell_type": "markdown",
   "id": "59d9bf60-df35-43c9-ab69-3ffac8010b19",
   "metadata": {},
   "source": [
    "## 13. A survey is conducted to measure customer satisfaction with a product on a scale of 1 to 10. The data collected is as follows:[7, 9, 6, 8, 10, 7, 8, 9, 7, 8] Calculate the 95% confidence interval for the population mean satisfaction score.\n"
   ]
  },
  {
   "cell_type": "code",
   "execution_count": 13,
   "id": "7b5d1e4b-0a10-403b-9d65-57b6943d2751",
   "metadata": {},
   "outputs": [
    {
     "name": "stdout",
     "output_type": "stream",
     "text": [
      "95% Confidence Interval: (7.043561120599888, 8.756438879400113)\n"
     ]
    }
   ],
   "source": [
    "from scipy import stats\n",
    "import numpy as np\n",
    "\n",
    "satisfaction_scores = [7, 9, 6, 8, 10, 7, 8, 9, 7, 8]\n",
    "\n",
    "# Calculate the sample mean and standard deviation\n",
    "sample_mean = np.mean(satisfaction_scores)\n",
    "sample_std = np.std(satisfaction_scores, ddof=1)  # Use ddof=1 for sample standard deviation\n",
    "\n",
    "# Set the confidence level and calculate the critical value\n",
    "confidence_level = 0.95\n",
    "alpha = 1 - confidence_level\n",
    "critical_value = stats.t.ppf(1 - alpha/2, df=len(satisfaction_scores)-1)\n",
    "\n",
    "# Calculate the margin of error\n",
    "margin_of_error = critical_value * (sample_std / np.sqrt(len(satisfaction_scores)))\n",
    "\n",
    "# Calculate the confidence interval\n",
    "lower_bound = sample_mean - margin_of_error\n",
    "upper_bound = sample_mean + margin_of_error\n",
    "\n",
    "print(\"95% Confidence Interval:\", (lower_bound, upper_bound))\n"
   ]
  },
  {
   "cell_type": "markdown",
   "id": "044f3d52-0aa9-41e8-bf92-c04eb07dafdf",
   "metadata": {},
   "source": [
    "## 14. A company wants to analyze the effect of temperature on product performance. The data collected is as follows:Temperature (in degrees Celsius): [20, 22, 23, 19, 21]Performance (on a scale of 1 to 10): [8, 7, 9, 6, 8] Perform a simple linear regression to predict performance based on temperature.\n"
   ]
  },
  {
   "cell_type": "code",
   "execution_count": 14,
   "id": "1335254a-922b-49a8-9392-26783cd98183",
   "metadata": {},
   "outputs": [
    {
     "name": "stdout",
     "output_type": "stream",
     "text": [
      "                            OLS Regression Results                            \n",
      "==============================================================================\n",
      "Dep. Variable:                      y   R-squared:                       0.481\n",
      "Model:                            OLS   Adj. R-squared:                  0.308\n",
      "Method:                 Least Squares   F-statistic:                     2.778\n",
      "Date:                Sun, 09 Jul 2023   Prob (F-statistic):              0.194\n",
      "Time:                        05:34:08   Log-Likelihood:                -5.5542\n",
      "No. Observations:                   5   AIC:                             15.11\n",
      "Df Residuals:                       3   BIC:                             14.33\n",
      "Df Model:                           1                                         \n",
      "Covariance Type:            nonrobust                                         \n",
      "==============================================================================\n",
      "                 coef    std err          t      P>|t|      [0.025      0.975]\n",
      "------------------------------------------------------------------------------\n",
      "const         -2.9000      6.314     -0.459      0.677     -22.995      17.195\n",
      "x1             0.5000      0.300      1.667      0.194      -0.455       1.455\n",
      "==============================================================================\n",
      "Omnibus:                          nan   Durbin-Watson:                   3.056\n",
      "Prob(Omnibus):                    nan   Jarque-Bera (JB):                0.522\n",
      "Skew:                          -0.348   Prob(JB):                        0.770\n",
      "Kurtosis:                       1.578   Cond. No.                         314.\n",
      "==============================================================================\n",
      "\n",
      "Notes:\n",
      "[1] Standard Errors assume that the covariance matrix of the errors is correctly specified.\n"
     ]
    },
    {
     "name": "stderr",
     "output_type": "stream",
     "text": [
      "/opt/conda/lib/python3.10/site-packages/statsmodels/stats/stattools.py:74: ValueWarning: omni_normtest is not valid with less than 8 observations; 5 samples were given.\n",
      "  warn(\"omni_normtest is not valid with less than 8 observations; %i \"\n"
     ]
    }
   ],
   "source": [
    "import statsmodels.api as sm\n",
    "import numpy as np\n",
    "\n",
    "temperature = [20, 22, 23, 19, 21]\n",
    "performance = [8, 7, 9, 6, 8]\n",
    "\n",
    "# Add a constant term to the temperature data\n",
    "temperature = sm.add_constant(temperature)\n",
    "\n",
    "# Create the linear regression model\n",
    "model = sm.OLS(performance, temperature)\n",
    "\n",
    "# Fit the model to the data\n",
    "results = model.fit()\n",
    "\n",
    "# Print the regression results\n",
    "print(results.summary())\n"
   ]
  },
  {
   "cell_type": "markdown",
   "id": "a74ac00c-61b3-4e7e-a4dc-d357899e66d8",
   "metadata": {},
   "source": [
    "## 15. A study is conducted to compare the preferences of two groups of participants. The preferences are measured on a Likert scale from 1 to 5. The data collected is as follows: Group A: [4, 3, 5, 2, 4] Group B: [3, 2, 4, 3, 3] Perform a Mann-Whitney U test to determine if there is a significant difference in the median preferences between the two groups.\n"
   ]
  },
  {
   "cell_type": "code",
   "execution_count": 15,
   "id": "8996e4c5-8e4c-49f6-9576-05c0d5e27b2f",
   "metadata": {},
   "outputs": [
    {
     "name": "stdout",
     "output_type": "stream",
     "text": [
      "Mann-Whitney U statistic: 17.0\n",
      "p-value: 0.380836480306712\n"
     ]
    }
   ],
   "source": [
    "from scipy.stats import mannwhitneyu\n",
    "\n",
    "group_A = [4, 3, 5, 2, 4]\n",
    "group_B = [3, 2, 4, 3, 3]\n",
    "\n",
    "# Perform Mann-Whitney U test\n",
    "statistic, p_value = mannwhitneyu(group_A, group_B)\n",
    "\n",
    "print(\"Mann-Whitney U statistic:\", statistic)\n",
    "print(\"p-value:\", p_value)\n"
   ]
  },
  {
   "cell_type": "markdown",
   "id": "384e0fda-cd0c-4fbf-9a43-f9c68423520f",
   "metadata": {},
   "source": [
    "## 16.A company wants to analyze the distribution of customer ages. The data collected is as follows: [25, 30, 35, 40, 45, 50, 55, 60, 65, 70] Calculate the interquartile range (IQR) of the ages\n"
   ]
  },
  {
   "cell_type": "code",
   "execution_count": 16,
   "id": "0eb43cc3-5744-4891-8460-fe577d05ba57",
   "metadata": {},
   "outputs": [
    {
     "name": "stdout",
     "output_type": "stream",
     "text": [
      "Interquartile Range (IQR): 22.5\n"
     ]
    }
   ],
   "source": [
    "import numpy as np\n",
    "\n",
    "ages = [25, 30, 35, 40, 45, 50, 55, 60, 65, 70]\n",
    "\n",
    "# Calculate Q1 and Q3\n",
    "q1 = np.percentile(ages, 25)\n",
    "q3 = np.percentile(ages, 75)\n",
    "\n",
    "# Calculate IQR\n",
    "iqr = q3 - q1\n",
    "\n",
    "print(\"Interquartile Range (IQR):\", iqr)\n"
   ]
  },
  {
   "cell_type": "markdown",
   "id": "28a56aad-434c-429b-8a7a-7a4c31086996",
   "metadata": {},
   "source": [
    "## 17.A study is conducted to compare the performance of three different machine learning algorithms. The accuracy scores for each algorithm are as follows: Algorithm A: [0.85, 0.80, 0.82, 0.87, 0.83] Algorithm B: [0.78, 0.82, 0.84, 0.80, 0.79 Algorithm C: [0.90, 0.88, 0.89, 0.86, 0.87] Perform a Kruskal-Wallis test to determine if there is a significant difference in the median accuracy scores between the algorithms.\n"
   ]
  },
  {
   "cell_type": "code",
   "execution_count": 18,
   "id": "221e70a1-9eb8-4654-a7fe-00a31185c4b6",
   "metadata": {},
   "outputs": [
    {
     "name": "stdout",
     "output_type": "stream",
     "text": [
      "H-statistic: 9.696947935368053\n",
      "p-value: 0.007840333026249539\n"
     ]
    }
   ],
   "source": [
    "from scipy.stats import kruskal\n",
    "\n",
    "algorithm_A = [0.85, 0.80, 0.82, 0.87, 0.83]\n",
    "algorithm_B = [0.78, 0.82, 0.84, 0.80, 0.79]\n",
    "algorithm_C = [0.90, 0.88, 0.89, 0.86, 0.87]\n",
    "\n",
    "# Perform Kruskal-Wallis test\n",
    "h_statistic, p_value = kruskal(algorithm_A, algorithm_B, algorithm_C)\n",
    "\n",
    "print(\"H-statistic:\", h_statistic)\n",
    "print(\"p-value:\", p_value)\n"
   ]
  },
  {
   "cell_type": "markdown",
   "id": "4a735ff7-594b-4800-8556-42acbcc177b0",
   "metadata": {},
   "source": [
    "## 18.: A company wants to analyze the effect of price on sales. The data collected is as follows:Price (in dollars): [10, 15, 12, 8, 14]Sales: [100, 80, 90, 110, 95]Perform a simple linear regression to predict sales based on price."
   ]
  },
  {
   "cell_type": "code",
   "execution_count": 19,
   "id": "e86ada6d-3509-454c-b90c-40bc864d390f",
   "metadata": {},
   "outputs": [
    {
     "name": "stdout",
     "output_type": "stream",
     "text": [
      "Intercept: 136.3719512195122\n",
      "Coefficient: -3.5060975609756095\n"
     ]
    }
   ],
   "source": [
    "import numpy as np\n",
    "from sklearn.linear_model import LinearRegression\n",
    "\n",
    "price = np.array([10, 15, 12, 8, 14]).reshape(-1, 1)\n",
    "sales = np.array([100, 80, 90, 110, 95])\n",
    "\n",
    "# Create a linear regression model\n",
    "model = LinearRegression()\n",
    "\n",
    "# Fit the model to the data\n",
    "model.fit(price, sales)\n",
    "\n",
    "# Print the regression coefficients\n",
    "print(\"Intercept:\", model.intercept_)\n",
    "print(\"Coefficient:\", model.coef_[0])\n"
   ]
  },
  {
   "cell_type": "markdown",
   "id": "21751750-7f2d-45d2-92df-756913e8dea7",
   "metadata": {},
   "source": [
    "## 19. A survey is conducted to measure the satisfaction levels of customers with a new product. The data collected is as follows:[7, 8, 9, 6, 8, 7, 9, 7, 8, 7] Calculate the standard error of the mean satisfaction score.\n"
   ]
  },
  {
   "cell_type": "code",
   "execution_count": 20,
   "id": "99106e7d-a561-455d-9b13-a5565d4a43c4",
   "metadata": {},
   "outputs": [
    {
     "name": "stdout",
     "output_type": "stream",
     "text": [
      "Standard Error of the Mean: 0.28982753492378877\n"
     ]
    }
   ],
   "source": [
    "import numpy as np\n",
    "\n",
    "satisfaction_scores = [7, 8, 9, 6, 8, 7, 9, 7, 8, 7]\n",
    "\n",
    "# Calculate the standard deviation\n",
    "std_dev = np.std(satisfaction_scores)\n",
    "\n",
    "# Calculate the sample size\n",
    "n = len(satisfaction_scores)\n",
    "\n",
    "# Calculate the standard error of the mean\n",
    "std_error = std_dev / np.sqrt(n)\n",
    "\n",
    "print(\"Standard Error of the Mean:\", std_error)\n"
   ]
  },
  {
   "cell_type": "markdown",
   "id": "7767342a-63e3-428a-9ca1-f0fba512148f",
   "metadata": {},
   "source": [
    "## 20.A company wants to analyze the relationship between advertising expenditure and sales. The data collected is as follows: Advertising Expenditure (in thousands): [10, 15, 12, 8, 14] Sales (in thousands): [25, 30, 28, 20, 26] Perform a multiple regression analysis to predict sales based on advertising expenditure."
   ]
  },
  {
   "cell_type": "code",
   "execution_count": 21,
   "id": "ee8c6472-9a40-4b95-8895-245c88c296d6",
   "metadata": {},
   "outputs": [
    {
     "name": "stdout",
     "output_type": "stream",
     "text": [
      "                            OLS Regression Results                            \n",
      "==============================================================================\n",
      "Dep. Variable:                  Sales   R-squared:                       0.767\n",
      "Model:                            OLS   Adj. R-squared:                  0.689\n",
      "Method:                 Least Squares   F-statistic:                     9.872\n",
      "Date:                Sun, 09 Jul 2023   Prob (F-statistic):             0.0516\n",
      "Time:                        05:48:34   Log-Likelihood:                -9.5288\n",
      "No. Observations:                   5   AIC:                             23.06\n",
      "Df Residuals:                       3   BIC:                             22.28\n",
      "Df Model:                           1                                         \n",
      "Covariance Type:            nonrobust                                         \n",
      "===========================================================================================\n",
      "                              coef    std err          t      P>|t|      [0.025      0.975]\n",
      "-------------------------------------------------------------------------------------------\n",
      "const                      12.2012      4.429      2.755      0.070      -1.893      26.296\n",
      "Advertising Expenditure     1.1524      0.367      3.142      0.052      -0.015       2.320\n",
      "==============================================================================\n",
      "Omnibus:                          nan   Durbin-Watson:                   1.136\n",
      "Prob(Omnibus):                    nan   Jarque-Bera (JB):                0.546\n",
      "Skew:                          -0.267   Prob(JB):                        0.761\n",
      "Kurtosis:                       1.471   Cond. No.                         57.3\n",
      "==============================================================================\n",
      "\n",
      "Notes:\n",
      "[1] Standard Errors assume that the covariance matrix of the errors is correctly specified.\n"
     ]
    },
    {
     "name": "stderr",
     "output_type": "stream",
     "text": [
      "/opt/conda/lib/python3.10/site-packages/statsmodels/stats/stattools.py:74: ValueWarning: omni_normtest is not valid with less than 8 observations; 5 samples were given.\n",
      "  warn(\"omni_normtest is not valid with less than 8 observations; %i \"\n"
     ]
    }
   ],
   "source": [
    "import pandas as pd\n",
    "import statsmodels.api as sm\n",
    "\n",
    "# Define the data\n",
    "advertising_expenditure = [10, 15, 12, 8, 14]\n",
    "sales = [25, 30, 28, 20, 26]\n",
    "\n",
    "# Create a DataFrame for the data\n",
    "data = pd.DataFrame({'Advertising Expenditure': advertising_expenditure, 'Sales': sales})\n",
    "\n",
    "# Add a constant column to the data\n",
    "data = sm.add_constant(data)\n",
    "\n",
    "# Fit the multiple regression model\n",
    "model = sm.OLS(data['Sales'], data[['const', 'Advertising Expenditure']])\n",
    "results = model.fit()\n",
    "\n",
    "# Print the regression results\n",
    "print(results.summary())\n"
   ]
  }
 ],
 "metadata": {
  "kernelspec": {
   "display_name": "Python 3 (ipykernel)",
   "language": "python",
   "name": "python3"
  },
  "language_info": {
   "codemirror_mode": {
    "name": "ipython",
    "version": 3
   },
   "file_extension": ".py",
   "mimetype": "text/x-python",
   "name": "python",
   "nbconvert_exporter": "python",
   "pygments_lexer": "ipython3",
   "version": "3.10.8"
  }
 },
 "nbformat": 4,
 "nbformat_minor": 5
}
